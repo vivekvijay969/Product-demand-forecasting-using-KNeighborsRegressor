{
 "cells": [
  {
   "cell_type": "markdown",
   "id": "e6f13b92",
   "metadata": {},
   "source": [
    "\n",
    "# Importing necessary libraries\n",
    "1. Importing pandas, matplotlib libraries and some other functions from sklearn libraries"
   ]
  },
  {
   "cell_type": "code",
   "execution_count": 1,
   "id": "b58fa7fc",
   "metadata": {},
   "outputs": [],
   "source": [
    "import pandas as pd\n",
    "import matplotlib.pyplot as plt\n",
    "from sklearn.model_selection import train_test_split\n",
    "from sklearn.neighbors import KNeighborsRegressor\n",
    "from sklearn.metrics import mean_squared_error\n",
    "%matplotlib inline"
   ]
  },
  {
   "cell_type": "markdown",
   "id": "7a19e84c",
   "metadata": {},
   "source": [
    "\n",
    "# Data preparation\n",
    "1. The df dataframe is created by reading the Product Demand Forecasting Model.xlsx file and retriving the data in excel sheet named 'Data'.\n",
    "2. The independent variables 'Shop ID','Discounted price', and 'Base Price' are passed to dataframe X and dependent variable that predicts the demand, 'Products Sold' is passed the dataframe Y.\n",
    "3. The dataframes X_train,X_test,Y_train, and Y_test are created from the function train_test_split of X and Y with test_size of 30%"
   ]
  },
  {
   "cell_type": "code",
   "execution_count": 2,
   "id": "4becaf77",
   "metadata": {},
   "outputs": [],
   "source": [
    "df=pd.read_excel(\"C:\\\\Users\\\\admin\\\\Downloads\\\\Product Demand Forecasting Model.xlsx\",sheet_name=\"Data\")\n",
    "X= df[['Shop ID','Discounted price','Base Price']]\n",
    "Y= df[['Products Sold']]\n",
    "X_train,X_test,Y_train,Y_test = train_test_split(X,Y, test_size=0.3,random_state=0)"
   ]
  },
  {
   "cell_type": "markdown",
   "id": "41e39e7d",
   "metadata": {},
   "source": [
    "\n",
    "# Identifying the best value of n_neighbors for the KNeighborsRegressor\n",
    "1. The value of mean_squared_error between Y_test and Y_pred is calculated for different values of n_neighbor between 1 and 100 using the for-loop function.\n",
    "2. The values of mean_squared_error is appended to the list p.\n",
    "3. The different values of n_neighbors and resulting mean_squared_error were plotted against each other using 'plot' function in matplotlib. "
   ]
  },
  {
   "cell_type": "code",
   "execution_count": 3,
   "id": "ede3428f",
   "metadata": {
    "scrolled": true
   },
   "outputs": [
    {
     "data": {
      "image/png": "[encoded data removed]",
      "text/plain": [
       "<Figure size 432x288 with 1 Axes>"
      ]
     },
     "metadata": {
      "needs_background": "light"
     },
     "output_type": "display_data"
    }
   ],
   "source": [
    "p=[]\n",
    "for n_neighbors in range(1,100):\n",
    "    clf= KNeighborsRegressor(n_neighbors)\n",
    "    clf.fit(X_train,Y_train)\n",
    "    Y_pred= clf.predict(X_test)\n",
    "    p.append(mean_squared_error(Y_test, Y_pred))\n",
    "plt.plot(range(1,100),p)\n",
    "plt.xlabel('n_neighbors')\n",
    "plt.ylabel('mean_squared_error between Y_test and Y_pred')\n",
    "plt.title('The Optimal Value for n_neighbors', fontweight='bold')\n",
    "plt.show()"
   ]
  },
  {
   "cell_type": "markdown",
   "id": "cec73430",
   "metadata": {},
   "source": [
    "It can be understood that for the value of n_neighbors= 3, the value of mean_squared_error is minimal"
   ]
  },
  {
   "cell_type": "markdown",
   "id": "3c27dd2b",
   "metadata": {},
   "source": [
    "\n",
    "# Predicting Approximate Demand\n",
    "1. The value for Shop ID, Discounted price and Base price are sought from user and provided to the X_test.\n",
    "2. A classifier is developed using KNeighborsRegressor with n_neighbors=3\n",
    "3. The training dataset X_train (data) and Y_train (target) are fitted into the classifier clf.\n",
    "4. The Y_pred is predicted by providing X_test dataset using the clf.predict function."
   ]
  },
  {
   "cell_type": "code",
   "execution_count": 7,
   "id": "84c76f01",
   "metadata": {},
   "outputs": [
    {
     "name": "stdout",
     "output_type": "stream",
     "text": [
      "Enter the Shop ID (Use valid Shop ID): 361035\n",
      "Enter the Discounted price: 4424\n",
      "Enter the Base Price: 3975\n",
      "\n",
      "The Predicted Demand for the Product will be:  11190\n"
     ]
    },
    {
     "name": "stderr",
     "output_type": "stream",
     "text": [
      "C:\\Users\\admin\\AppData\\Roaming\\Python\\Python310\\site-packages\\sklearn\\base.py:450: UserWarning: X does not have valid feature names, but KNeighborsRegressor was fitted with feature names\n",
      "  warnings.warn(\n"
     ]
    }
   ],
   "source": [
    "X_test= [[float(input(\"Enter the Shop ID (Use valid Shop ID): \")),\n",
    "          float(input(\"Enter the Discounted price: \")), \n",
    "          float(input(\"Enter the Base Price: \"))]]\n",
    "clf= KNeighborsRegressor(n_neighbors=3)\n",
    "clf.fit(X_train,Y_train)\n",
    "Y_pred= clf.predict(X_test)\n",
    "print(\"\\nThe Predicted Demand for the Product will be: \",int(Y_pred[0][0]))"
   ]
  }
 ],
 "metadata": {
  "kernelspec": {
   "display_name": "Python 3 (ipykernel)",
   "language": "python",
   "name": "python3"
  },
  "language_info": {
   "codemirror_mode": {
    "name": "ipython",
    "version": 3
   },
   "file_extension": ".py",
   "mimetype": "text/x-python",
   "name": "python",
   "nbconvert_exporter": "python",
   "pygments_lexer": "ipython3",
   "version": "3.10.4"
  }
 },
 "nbformat": 4,
 "nbformat_minor": 5
}
